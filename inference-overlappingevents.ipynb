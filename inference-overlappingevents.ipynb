{
 "cells": [
  {
   "cell_type": "code",
   "execution_count": 118,
   "metadata": {
    "collapsed": true
   },
   "outputs": [],
   "source": [
    "fluents = {147: {'screen': 4.511042523263396},\n",
    " 175: {'door': 0.01375618393307834, 'screen': 0.12073814770214907},\n",
    " 191: {'door': 1.381971717221202},\n",
    " 197: {'door': 4.511042523263396},\n",
    " 227: {'light': 4.111633152359644},\n",
    " 231: {'light': 1.1412953889718431},\n",
    " 268: {'door': 0.011047802855318829},\n",
    " 272: {'door': 0.011047802855318829},\n",
    " 274: {'door': 2.4837952676020367}}"
   ]
  },
  {
   "cell_type": "code",
   "execution_count": 119,
   "metadata": {
    "collapsed": false
   },
   "outputs": [
    {
     "data": {
      "text/plain": [
       "defaultdict(set,\n",
       "            {'door': {175, 191, 197, 268, 272, 274},\n",
       "             'light': {227, 231},\n",
       "             'screen': {147, 175}})"
      ]
     },
     "execution_count": 119,
     "metadata": {},
     "output_type": "execute_result"
    }
   ],
   "source": [
    "from collections import defaultdict\n",
    "import itertools\n",
    "def powerset(iterable):\n",
    "    \"powerset([1,2,3]) --> () (1,) (2,) (3,) (1,2) (1,3) (2,3) (1,2,3)\"\n",
    "    s = list(iterable)\n",
    "    return itertools.chain.from_iterable(itertools.combinations(s, r) for r in range(len(s)+1))\n",
    "\n",
    "def flatten(listOfLists):\n",
    "    \"Flatten one level of nesting\"\n",
    "    return itertools.chain.from_iterable(listOfLists)\n",
    "\n",
    "fluents_to_recombine = defaultdict(set)\n",
    "for frame in fluents:\n",
    "    for fluent in fluents[frame]:\n",
    "        fluents_to_recombine[fluent].add(frame)\n",
    "fluents_to_recombine"
   ]
  },
  {
   "cell_type": "code",
   "execution_count": 120,
   "metadata": {
    "collapsed": false
   },
   "outputs": [
    {
     "data": {
      "text/plain": [
       "{175, 191, 197, 268, 272, 274}"
      ]
     },
     "execution_count": 120,
     "metadata": {},
     "output_type": "execute_result"
    }
   ],
   "source": [
    "frames_to_recombine = fluents_to_recombine['door']\n",
    "frames_to_recombine"
   ]
  },
  {
   "cell_type": "code",
   "execution_count": 121,
   "metadata": {
    "collapsed": false
   },
   "outputs": [],
   "source": [
    "def split_fluents_into_windows(fluents):\n",
    "    splits = list()\n",
    "    kFluentOverlap = 10\n",
    "    cluster = list()\n",
    "    prev_frame = -kFluentOverlap\n",
    "    for frame in sorted(frames_to_recombine):\n",
    "        if kFluentOverlap < (frame - prev_frame):\n",
    "            splits.append(cluster)\n",
    "            cluster = list()\n",
    "        prev_frame = frame\n",
    "        cluster.append(frame)\n",
    "    splits.append(cluster)\n",
    "    return splits[1:]\n",
    "splits = split_fluents_into_windows(frames_to_recombine)"
   ]
  },
  {
   "cell_type": "code",
   "execution_count": 122,
   "metadata": {
    "collapsed": false
   },
   "outputs": [
    {
     "data": {
      "text/plain": [
       "[[(175,)],\n",
       " [(191,), (197,), (191, 197)],\n",
       " [(268,), (272,), (274,), (268, 272), (268, 274), (272, 274), (268, 272, 274)]]"
      ]
     },
     "execution_count": 122,
     "metadata": {},
     "output_type": "execute_result"
    }
   ],
   "source": [
    "split_combinations = list()\n",
    "for item in splits:\n",
    "    split_combinations.append(list(powerset(item))[1:])\n",
    "split_combinations    "
   ]
  },
  {
   "cell_type": "code",
   "execution_count": 123,
   "metadata": {
    "collapsed": false,
    "scrolled": true
   },
   "outputs": [
    {
     "data": {
      "text/plain": [
       "[[175, 191, 268],\n",
       " [175, 191, 272],\n",
       " [175, 191, 274],\n",
       " [175, 191, 268, 272],\n",
       " [175, 191, 268, 274],\n",
       " [175, 191, 272, 274],\n",
       " [175, 191, 268, 272, 274],\n",
       " [175, 197, 268],\n",
       " [175, 197, 272],\n",
       " [175, 197, 274],\n",
       " [175, 197, 268, 272],\n",
       " [175, 197, 268, 274],\n",
       " [175, 197, 272, 274],\n",
       " [175, 197, 268, 272, 274],\n",
       " [175, 191, 197, 268],\n",
       " [175, 191, 197, 272],\n",
       " [175, 191, 197, 274],\n",
       " [175, 191, 197, 268, 272],\n",
       " [175, 191, 197, 268, 274],\n",
       " [175, 191, 197, 272, 274],\n",
       " [175, 191, 197, 268, 272, 274]]"
      ]
     },
     "execution_count": 123,
     "metadata": {},
     "output_type": "execute_result"
    }
   ],
   "source": [
    "all_combos = split_combinations[0]\n",
    "for i in range(1,len(split_combinations)):\n",
    "    all_combos = list(list(flatten(x)) for x in itertools.product(all_combos, split_combinations[i]))\n",
    "list(all_combos)"
   ]
  },
  {
   "cell_type": "code",
   "execution_count": 124,
   "metadata": {
    "collapsed": false
   },
   "outputs": [
    {
     "data": {
      "text/plain": [
       "{227, 231}"
      ]
     },
     "execution_count": 124,
     "metadata": {},
     "output_type": "execute_result"
    }
   ],
   "source": [
    "frames_to_recombine = fluents_to_recombine['light']\n",
    "frames_to_recombine"
   ]
  },
  {
   "cell_type": "code",
   "execution_count": 125,
   "metadata": {
    "collapsed": true
   },
   "outputs": [],
   "source": [
    "splits = split_fluents_into_windows(frames_to_recombine)"
   ]
  },
  {
   "cell_type": "code",
   "execution_count": 126,
   "metadata": {
    "collapsed": false
   },
   "outputs": [
    {
     "data": {
      "text/plain": [
       "[[(227,), (231,), (227, 231)]]"
      ]
     },
     "execution_count": 126,
     "metadata": {},
     "output_type": "execute_result"
    }
   ],
   "source": [
    "split_combinations = list()\n",
    "for item in splits:\n",
    "    split_combinations.append(list(powerset(item))[1:])\n",
    "split_combinations    "
   ]
  },
  {
   "cell_type": "code",
   "execution_count": 127,
   "metadata": {
    "collapsed": false
   },
   "outputs": [
    {
     "data": {
      "text/plain": [
       "[(227,), (231,), (227, 231)]"
      ]
     },
     "execution_count": 127,
     "metadata": {},
     "output_type": "execute_result"
    }
   ],
   "source": [
    "all_combos = split_combinations[0]\n",
    "list(all_combos)\n",
    "for i in range(1,len(split_combinations)):\n",
    "    all_combos = list(list(flatten(x)) for x in itertools.product(all_combos, split_combinations[i]))\n",
    "list(all_combos)"
   ]
  },
  {
   "cell_type": "code",
   "execution_count": 128,
   "metadata": {
    "collapsed": false
   },
   "outputs": [
    {
     "data": {
      "text/plain": [
       "{'door': [[175, 191, 268],\n",
       "  [175, 191, 272],\n",
       "  [175, 191, 274],\n",
       "  [175, 191, 268, 272],\n",
       "  [175, 191, 268, 274],\n",
       "  [175, 191, 272, 274],\n",
       "  [175, 191, 268, 272, 274],\n",
       "  [175, 197, 268],\n",
       "  [175, 197, 272],\n",
       "  [175, 197, 274],\n",
       "  [175, 197, 268, 272],\n",
       "  [175, 197, 268, 274],\n",
       "  [175, 197, 272, 274],\n",
       "  [175, 197, 268, 272, 274],\n",
       "  [175, 191, 197, 268],\n",
       "  [175, 191, 197, 272],\n",
       "  [175, 191, 197, 274],\n",
       "  [175, 191, 197, 268, 272],\n",
       "  [175, 191, 197, 268, 274],\n",
       "  [175, 191, 197, 272, 274],\n",
       "  [175, 191, 197, 268, 272, 274]],\n",
       " 'light': [(227,), (231,), (227, 231)],\n",
       " 'screen': [[147, 175]]}"
      ]
     },
     "execution_count": 128,
     "metadata": {},
     "output_type": "execute_result"
    }
   ],
   "source": [
    "powersets = dict()\n",
    "for fluent in fluents_to_recombine:\n",
    "    frames_to_recombine = fluents_to_recombine[fluent]\n",
    "    splits = split_fluents_into_windows(frames_to_recombine)\n",
    "    split_combinations = list()\n",
    "    for item in splits:\n",
    "        split_combinations.append(list(powerset(item))[1:])\n",
    "    all_combos = split_combinations[0]\n",
    "    for i in range(1,len(split_combinations)):\n",
    "        all_combos = list(list(flatten(x)) for x in itertools.product(all_combos, split_combinations[i]))\n",
    "    powersets[fluent] = all_combos\n",
    "powersets"
   ]
  },
  {
   "cell_type": "code",
   "execution_count": 129,
   "metadata": {
    "collapsed": false
   },
   "outputs": [
    {
     "data": {
      "text/plain": [
       "[('light', 3), ('screen', 1), ('door', 21)]"
      ]
     },
     "execution_count": 129,
     "metadata": {},
     "output_type": "execute_result"
    }
   ],
   "source": [
    "powerset_counts = map(lambda x: (x,len(powersets[x]),),powersets.keys())\n",
    "powerset_counts"
   ]
  },
  {
   "cell_type": "code",
   "execution_count": 218,
   "metadata": {
    "collapsed": false
   },
   "outputs": [
    {
     "data": {
      "text/plain": [
       "[[0, 1, 2],\n",
       " [0],\n",
       " [0, 1, 2, 3, 4, 5, 6, 7, 8, 9, 10, 11, 12, 13, 14, 15, 16, 17, 18, 19, 20]]"
      ]
     },
     "execution_count": 218,
     "metadata": {},
     "output_type": "execute_result"
    }
   ],
   "source": [
    "powerset_count_split_combinations = map(lambda x: range(0,x[1]),powerset_counts)\n",
    "powerset_count_split_combinations"
   ]
  },
  {
   "cell_type": "code",
   "execution_count": 245,
   "metadata": {
    "collapsed": false
   },
   "outputs": [
    {
     "data": {
      "text/plain": [
       "[(('light', 3), 0), (('screen', 1), 0), (('door', 21), 1)]"
      ]
     },
     "execution_count": 245,
     "metadata": {},
     "output_type": "execute_result"
    }
   ],
   "source": [
    "if len(powerset_count_split_combinations) > 1:\n",
    "    merge_combinations = list(itertools.product(powerset_count_split_combinations[0], powerset_count_split_combinations[1]))\n",
    "    for item in powerset_count_split_combinations[2:]:\n",
    "        merge_combinations = list(itertools.product(merge_combinations, item))\n",
    "        merge_combinations = list(list(flatten(x)) for x in map(lambda x: (x[0],(x[1],)),merge_combinations))\n",
    "    list(merge_combinations)\n",
    "else:\n",
    "    merge_combinations = powerset_count_split_combinations[0]\n",
    "combination = merge_combinations[1]\n",
    "combination\n",
    "zip(powerset_counts,combination)"
   ]
  },
  {
   "cell_type": "code",
   "execution_count": 251,
   "metadata": {
    "collapsed": false
   },
   "outputs": [
    {
     "data": {
      "text/plain": [
       "{'door': [175, 191, 272], 'light': (227,), 'screen': [147, 175]}"
      ]
     },
     "execution_count": 251,
     "metadata": {},
     "output_type": "execute_result"
    }
   ],
   "source": [
    "parses_to_recombine = dict(map(lambda x:(x[0][0],powersets[x[0][0]][x[1]]),zip(powerset_counts,combination)))\n",
    "parses_to_recombine"
   ]
  },
  {
   "cell_type": "code",
   "execution_count": 253,
   "metadata": {
    "collapsed": false
   },
   "outputs": [
    {
     "data": {
      "text/plain": [
       "defaultdict(dict,\n",
       "            {147: {'screen': 4.511042523263396},\n",
       "             175: {'door': 0.01375618393307834, 'screen': 0.12073814770214907},\n",
       "             191: {'door': 1.381971717221202},\n",
       "             227: {'light': 4.111633152359644},\n",
       "             272: {'door': 0.011047802855318829}})"
      ]
     },
     "execution_count": 253,
     "metadata": {},
     "output_type": "execute_result"
    }
   ],
   "source": [
    "recombined_parses = defaultdict(dict)\n",
    "for fluent in parses_to_recombine:\n",
    "    for frame in parses_to_recombine[fluent]:\n",
    "        recombined_parses[frame][fluent] = fluents[frame][fluent]\n",
    "recombined_parses"
   ]
  },
  {
   "cell_type": "code",
   "execution_count": 4,
   "metadata": {
    "collapsed": false
   },
   "outputs": [
    {
     "data": {
      "text/plain": [
       "[(('screen', 1), 0)]"
      ]
     },
     "execution_count": 4,
     "metadata": {},
     "output_type": "execute_result"
    }
   ],
   "source": [
    "powerset_counts = [('screen', 1)]\n",
    "powersets = {'screen': [(209,)]}\n",
    "zip(powerset_counts,(0,))\n"
   ]
  },
  {
   "cell_type": "code",
   "execution_count": 7,
   "metadata": {
    "collapsed": false
   },
   "outputs": [
    {
     "name": "stdout",
     "output_type": "stream",
     "text": [
      "<type 'int'>\n",
      "<type 'int'>\n"
     ]
    }
   ],
   "source": [
    "combination = 0\n",
    "print type(0)\n",
    "print type(combination)"
   ]
  },
  {
   "cell_type": "code",
   "execution_count": null,
   "metadata": {
    "collapsed": true
   },
   "outputs": [],
   "source": []
  }
 ],
 "metadata": {
  "kernelspec": {
   "display_name": "Python 2",
   "language": "python",
   "name": "python2"
  },
  "language_info": {
   "codemirror_mode": {
    "name": "ipython",
    "version": 2
   },
   "file_extension": ".py",
   "mimetype": "text/x-python",
   "name": "python",
   "nbconvert_exporter": "python",
   "pygments_lexer": "ipython2",
   "version": "2.7.10"
  }
 },
 "nbformat": 4,
 "nbformat_minor": 0
}
